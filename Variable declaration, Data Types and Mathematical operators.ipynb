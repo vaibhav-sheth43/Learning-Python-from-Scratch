{
 "cells": [
  {
   "cell_type": "markdown",
   "id": "389360a0",
   "metadata": {},
   "source": [
    "# Variable Declaration"
   ]
  },
  {
   "cell_type": "code",
   "execution_count": 5,
   "id": "f13e0c2b",
   "metadata": {},
   "outputs": [
    {
     "name": "stdout",
     "output_type": "stream",
     "text": [
      "30\n",
      "<class 'int'> <class 'int'>\n",
      "2910384751120 2910384751440\n"
     ]
    }
   ],
   "source": [
    "first_num = 10\n",
    "second_num = 20\n",
    "addition = first_num + second_num\n",
    "print(addition)\n",
    "\n",
    "print(type(first_num),type(second_num))\n",
    "print(id(first_num), id(second_num))\n",
    "\n",
    "#types tell you the class type of any variable\n",
    "#id tell you where in the ram the variable is stored\n",
    "# variables naming has some rules: it must start with lower case char; no digits in start, _ is alowed at start\n"
   ]
  },
  {
   "cell_type": "markdown",
   "id": "f56912eb",
   "metadata": {},
   "source": [
    "# Data types (built-in)"
   ]
  },
  {
   "cell_type": "code",
   "execution_count": 8,
   "id": "63867028",
   "metadata": {},
   "outputs": [],
   "source": [
    "#1 Int >> integer\n",
    "#2 float >> decimals\n",
    "#3 str >> string or sentance   always wirte in '' or \" \" or \"\"\" \"\"\"\n",
    "#4 list >> multiple variables it can contain int, floats, str, etc... | it is always written in [1,2,3,4]\n",
    "#5 tuple >> same as list but is written in (1,2,3,4) difference is tuple can not be edited after making it.\n",
    "#6 dictionary >> has always reference and its written as {\"name\":\"ABC\",\"mail\":\"abc@nothing.com\"}\n",
    "#7 set >> {10,20,30,40} used in logical interpretations set theories\n",
    "#8 bool >> its boolean operators like yes no, true false, 0 1 etc.\n",
    "#9 complex >> 4+3j  complex equations"
   ]
  },
  {
   "cell_type": "code",
   "execution_count": 15,
   "id": "811e031a",
   "metadata": {},
   "outputs": [
    {
     "name": "stdout",
     "output_type": "stream",
     "text": [
      "<class 'int'>\n",
      "<class 'float'>\n",
      "<class 'str'>\n",
      "<class 'list'>\n",
      "<class 'tuple'>\n",
      "<class 'dict'>\n",
      "False\n"
     ]
    }
   ],
   "source": [
    "#1\n",
    "a=1\n",
    "print(type(a))\n",
    "\n",
    "#2\n",
    "b=1.55\n",
    "print(type(b))\n",
    "\n",
    "#3\n",
    "c= \"We will succedd in life\"\n",
    "print(type(c))\n",
    "\n",
    "#4\n",
    "d= [1,2,3.45,'cool']\n",
    "print(type(d))\n",
    "\n",
    "#5\n",
    "e= (1,2,3.45,'cool')\n",
    "print(type(e))\n",
    "\n",
    "#6\n",
    "f= {\"name\":\"ABC\",\"mail\":\"abc@nothing.com\"}\n",
    "print(type(f))\n",
    "\n",
    "#7\n",
    "g= {10,20,30,400}\n",
    "\n",
    "#8\n",
    "h= 1\n",
    "i=2\n",
    "print(i==h)\n",
    "\n",
    "#9 its complex and i will show you in some data operation we do in furhter notebooks."
   ]
  },
  {
   "cell_type": "markdown",
   "id": "58709413",
   "metadata": {},
   "source": [
    "# Operators"
   ]
  },
  {
   "cell_type": "code",
   "execution_count": 7,
   "id": "131442c4",
   "metadata": {},
   "outputs": [],
   "source": [
    "#1 Arithmatic operators >> +, -, *, /, %, etc.\n",
    "#2 Comparison operators >> like >,<,>=,<=,==\n",
    "#3 Identity operators >> is, is not || this identity operator is used for comparison of memory location not the actual value\n",
    "#4 Assignment operators >> =,+=,-=,*=,/=   || for example n=5, n+=5 will give output as n=10\n",
    "#5 Bitwise operators >>   &,|,^,>>,<< are assignment operators\n",
    "#6 Logical operators >> and, or, not\n",
    "#7 Membership Operators >> in, not in"
   ]
  },
  {
   "cell_type": "code",
   "execution_count": 30,
   "id": "3c2bdf5b",
   "metadata": {},
   "outputs": [
    {
     "name": "stdout",
     "output_type": "stream",
     "text": [
      "3\n",
      "True\n",
      "True\n",
      "False\n",
      "22\n",
      "0b1001000111001\n",
      "0b101110\n",
      "0b1001000111001\n"
     ]
    }
   ],
   "source": [
    "#1\n",
    "a=1\n",
    "b=2\n",
    "c=a+b\n",
    "print(c)\n",
    "\n",
    "#2\n",
    "d=4\n",
    "e=5\n",
    "print(e>d)\n",
    "\n",
    "#3\n",
    "f= (1,2,3,4)\n",
    "g= (1,2,3,4)\n",
    "print(f==g)  #here we get true as the values are same\n",
    "print(f is g)  #here we get false because memory allocation of both the values are different one is f and other is g\n",
    "\n",
    "#4\n",
    "h=10\n",
    "h=h+6  #here you get ans of h as 16 but there is other way of writing the same thing in this wonderful language which is\n",
    "h+=6   \n",
    "print(h)\n",
    "\n",
    "#6 This operator more deals with the binary functions so\n",
    "a= 4665\n",
    "print(bin(a))\n",
    "b= 46\n",
    "print(bin(b))\n",
    "print (bin(a) or bin(b))\n",
    "\n"
   ]
  },
  {
   "cell_type": "code",
   "execution_count": null,
   "id": "3595fbb5",
   "metadata": {},
   "outputs": [],
   "source": []
  },
  {
   "cell_type": "code",
   "execution_count": null,
   "id": "9b89ebd4",
   "metadata": {},
   "outputs": [],
   "source": []
  }
 ],
 "metadata": {
  "kernelspec": {
   "display_name": "Python 3 (ipykernel)",
   "language": "python",
   "name": "python3"
  },
  "language_info": {
   "codemirror_mode": {
    "name": "ipython",
    "version": 3
   },
   "file_extension": ".py",
   "mimetype": "text/x-python",
   "name": "python",
   "nbconvert_exporter": "python",
   "pygments_lexer": "ipython3",
   "version": "3.10.4"
  }
 },
 "nbformat": 4,
 "nbformat_minor": 5
}
